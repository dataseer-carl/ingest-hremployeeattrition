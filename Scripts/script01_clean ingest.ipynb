{
 "cells": [
  {
   "cell_type": "code",
   "execution_count": 14,
   "metadata": {},
   "outputs": [
    {
     "name": "stderr",
     "output_type": "stream",
     "text": [
      "Waiting for authentication in browser...\n",
      "Press Esc/Ctrl + C to abort\n",
      "Please point your browser to the following url: \n",
      "https://accounts.google.com/o/oauth2/auth?client_id=603366585132-nku3fbd298ma3925l12o2hq0cc1v8u11.apps.googleusercontent.com&scope=https%3A%2F%2Fwww.googleapis.com%2Fauth%2Fdrive&redirect_uri=http%3A%2F%2Flocalhost%3A1410%2F&response_type=code&state=MmIMNtj7ta\n",
      "Authentication complete.\n"
     ]
    }
   ],
   "source": [
    "# Ingestion script header ################################################\n",
    "\n",
    "library(googledrive)\n",
    "drive_auth()\n",
    "\n",
    "# source(\"./Scripts/template_fxns.R\") # RStudio\n",
    "source(\"./template_fxns.R\") # Jupyter\n",
    "\n",
    "## data://\n",
    "datapath.id <- as_id(\"1hOHLPmvDvycpnxNYOMgIV5Z6uVcoSyuq\")\n",
    "\n",
    "## proxy data://\n",
    "# proxydata.path <- file.path(\".\", \"Data\") # For RStudio\n",
    "proxydata.path <- file.path(\"..\", \"Data\") # For Jupyter\n",
    "\n",
    "## Get IDs of raw data file dump and Data stage\n",
    "rawdump.id <- drive_sub_id(datapath.id, \"raw\")\n",
    "datastage.id <- drive_sub_id(datapath.id, \"data\")\n",
    "\n",
    "#************************************************************************#"
   ]
  },
  {
   "cell_type": "markdown",
   "metadata": {},
   "source": [
    "# Get data"
   ]
  },
  {
   "cell_type": "code",
   "execution_count": 3,
   "metadata": {},
   "outputs": [
    {
     "data": {
      "text/html": [
       "<table>\n",
       "<thead><tr><th scope=col>name</th><th scope=col>id</th><th scope=col>drive_resource</th></tr></thead>\n",
       "<tbody>\n",
       "\t<tr><td>data00_raw ingest.rds                                                                                                                                                                                                                                                                                                                                                                                                                                                                                                                                                                                                                                                                                                                                                                                                                                                                                                                                                                                                                                                                                                                                                                                                                                                                                                                                                                                                                                                                                                                                                                                                                                                                                                                                                                                                                                                                                                                                                                                                                                                                                                                                                                                                                                                                                                                                                                                                                                                                                                                                                                                                                                                                                                                                                                                                                                                                                                                                                                                                                                                                                                                                                                                                                                                                                                                                                                                                                                                                                                                                                                                                                                                                                                                                                                                                                                                                                                                                                                                                                                                                                                                                                                                                                                                                                                                                                                                                                                                                                                                                                                                                                                                                                                                                                                                                                                                                                                                                                                                                                                                                                                                                                                                                                                                                                                                                                                                                                                                                                                                                                                                                                                                                                                                                                                                                                                                                                                                                                                                                                                                                                                                                                                                                                                                                                                                                                                                                                                                                                                                                                                                                                                                                                                                                                                                                                                                                                                                                                                                                                                                                                                                                                                                                                                                                                                                                                                                                                                                                                                                                                                                                                                                                                                                                                                                                                                                                                                                                                                                                                                                                                                                                                                                                                                                                                                                                                                                                                                                                                                                                                                                                                                                                                                                                                                                                                                                                                                                                                                                                                                                                                                                                                                                                                                                                                                                                                                                                                                                                                                                                                                                                                                                                                                                                                                                                                                                                                                                                                                                                                                                                                                                                                                                                                                                                                                                                                                                                                                                                                                                                                                                                                                                                                                                                                 </td><td>1D3cyht8tytCJrbxEwxcBd_o1palVLD7l                                                                                                                                                                                                                                                                                                                                                                                                                                                                                                                                                                                                                                                                                                                                                                                                                                                                                                                                                                                                                                                                                                                                                                                                                                                                                                                                                                                                                                                                                                                                                                                                                                                                                                                                                                                                                                                                                                                                                                                                                                                                                                                                                                                                                                                                                                                                                                                                                                                                                                                                                                                                                                                                                                                                                                                                                                                                                                                                                                                                                                                                                                                                                                                                                                                                                                                                                                                                                                                                                                                                                                                                                                                                                                                                                                                                                                                                                                                                                                                                                                                                                                                                                                                                                                                                                                                                                                                                                                                                                                                                                                                                                                                                                                                                                                                                                                                                                                                                                                                                                                                                                                                                                                                                                                                                                                                                                                                                                                                                                                                                                                                                                                                                                                                                                                                                                                                                                                                                                                                                                                                                                                                                                                                                                                                                                                                                                                                                                                                                                                                                                                                                                                                                                                                                                                                                                                                                                                                                                                                                                                                                                                                                                                                                                                                                                                                                                                                                                                                                                                                                                                                                                                                                                                                                                                                                                                                                                                                                                                                                                                                                                                                                                                                                                                                                                                                                                                                                                                                                                                                                                                                                                                                                                                                                                                                                                                                                                                                                                                                                                                                                                                                                                                                                                                                                                                                                                                                                                                                                                                                                                                                                                                                                                                                                                                                                                                                                                                                                                                                                                                                                                                                                                                                                                                                                                                                                                                                                                                                                                                                                                                                                                                                                                                                                     </td><td><span style=white-space:pre-wrap>drive#file                                                                                        , 1D3cyht8tytCJrbxEwxcBd_o1palVLD7l                                                                 , data00_raw ingest.rds                                                                             , application/x-gzip                                                                                , FALSE                                                                                             , FALSE                                                                                             , FALSE                                                                                             , 1JbzEMKwMIJYTg3hYyZTBQRFp1575B1ZJ                                                                 , drive                                                                                             , 4                                                                                                 , https://drive.google.com/a/dataseer.com/uc?id=1D3cyht8tytCJrbxEwxcBd_o1palVLD7l&amp;export=download   , https://drive.google.com/a/dataseer.com/file/d/1D3cyht8tytCJrbxEwxcBd_o1palVLD7l/view?usp=drivesdk, https://drive-thirdparty.googleusercontent.com/16/type/application/x-gzip                         , FALSE                                                                                             , 0                                                                                                 , FALSE                                                                                             , 2018-03-09T10:44:07.887Z                                                                          , 2018-03-09T10:44:07.887Z                                                                          , 2018-03-09T10:44:07.887Z                                                                          , TRUE                                                                                              , drive#user                                                                                        , Carl Calub                                                                                        , https://lh3.googleusercontent.com/-jRw26VM0aQE/AAAAAAAAAAI/AAAAAAAAAAg/-nMT7AInvfU/s64/photo.jpg  , TRUE                                                                                              , 07521334318440695187                                                                              , carl.calub@dataseer.com                                                                           , drive#user                                                                                        , Carl Calub                                                                                        , https://lh3.googleusercontent.com/-jRw26VM0aQE/AAAAAAAAAAI/AAAAAAAAAAg/-nMT7AInvfU/s64/photo.jpg  , TRUE                                                                                              , 07521334318440695187                                                                              , carl.calub@dataseer.com                                                                           , TRUE                                                                                              , TRUE                                                                                              , FALSE                                                                                             , TRUE                                                                                              , TRUE                                                                                              , TRUE                                                                                              , TRUE                                                                                              , TRUE                                                                                              , TRUE                                                                                              , FALSE                                                                                             , TRUE                                                                                              , TRUE                                                                                              , FALSE                                                                                             , TRUE                                                                                              , TRUE                                                                                              , TRUE                                                                                              , TRUE                                                                                              , TRUE                                                                                              , TRUE                                                                                              , drive#permission                                                                                  , 07521334318440695187                                                                              , user                                                                                              , carl.calub@dataseer.com                                                                           , owner                                                                                             , Carl Calub                                                                                        , https://lh3.googleusercontent.com/-jRw26VM0aQE/AAAAAAAAAAI/AAAAAAAAAAg/-nMT7AInvfU/s64/photo.jpg  , FALSE                                                                                             , drive#permission                                                                                  , 17223120642155110911                                                                              , user                                                                                              , jay.manahan@dataseer.com                                                                          , writer                                                                                            , Jay Manahan                                                                                       , https://lh4.googleusercontent.com/-hmpVBoNR66I/AAAAAAAAAAI/AAAAAAAAAEY/HHx_yr06gEg/s64/photo.jpg  , FALSE                                                                                             , drive#permission                                                                                  , 11401145347543629605                                                                              , user                                                                                              , rey.baguio@dataseer.com                                                                           , writer                                                                                            , Rey Baguio                                                                                        , https://lh5.googleusercontent.com/-XmHs5qeBpLY/AAAAAAAAAAI/AAAAAAAAAD4/ynauCe71HWs/s64/photo.jpg  , FALSE                                                                                             , drive#permission                                                                                  , 09256184627677790000                                                                              , user                                                                                              , robin.ramos@dataseer.com                                                                          , writer                                                                                            , Robin Kamille Ramos                                                                               , https://lh3.googleusercontent.com/-yWCWyIBG-aA/AAAAAAAAAAI/AAAAAAAAAA0/gi-iW4j0Cug/s64/photo.jpg  , FALSE                                                                                             , drive#permission                                                                                  , 13830154812158422871k                                                                             , domain                                                                                            , dataseer.com                                                                                      , reader                                                                                            , FALSE                                                                                             , DataSeer                                                                                          , 07521334318440695187                                                                              , 17223120642155110911                                                                              , 11401145347543629605                                                                              , 09256184627677790000                                                                              , 13830154812158422871k                                                                             , data00_raw ingest.rds                                                                             , rds                                                                                               , rds                                                                                               , 0d8a79f1d5e6be5dbaf26043b4a83dff                                                                  , 48931                                                                                             , 48931                                                                                             , 0B0-qVmeVH629MHJXOWkveXFIanltMnlDK0hLK1lnWnRaRXN3PQ                                               , TRUE                                                                                              </span></td></tr>\n",
       "</tbody>\n",
       "</table>\n"
      ],
      "text/latex": [
       "\\begin{tabular}{r|lll}\n",
       " name & id & drive\\_resource\\\\\n",
       "\\hline\n",
       "\t data00\\_raw ingest.rds                                                                                                                                                                                                                                                                                                                                                                                                                                                                                                                                                                                                                                                                                                                                                                                                                                                                                                                                                                                                                                                                                                                                                                                                                                                                                                                                                                                                                                                                                                                                                                                                                                                                                                                                                                                                                                                                                                                                                                                                                                                                                                                                                                                                                                                                                                                                                                                                                                                                                                                                                                                                                                                                                                                                                                                                                                                                                                                                                                                                                                                                                                                                                                                                                                                                                                                                                                                                                                                                                                                                                                                                                                                                                                                                                                                                                                                                                                                                                                                                                                                                                                                                                                                                                                                                                                                                                                                                                                                                                                                                                                                                                                                                                                                                                                                                                                                                                                                                                                                                                                                                                                                                                                                                                                                                                                                                                                                                                                                                                                                                                                                                                                                                                                                                                                                                                                                                                                                                                                                                                                                                                                                                                                                                                                                                                                                                                                                                                                                                                                                                                                                                                                                                                                                                                                                                                                                                                                                                                                                                                                                                                                                                                                                                                                                                                                                                                                                                                                                                                                                                                                                                                                                                                                                                                                                                                                                                                                                                                                                                                                                                                                                                                                                                                                                                                                                                                                                                                                                                                                                                                                                                                                                                                                                                                                                                                                                                                                                                                                                                                                                                                                                                                                                                                                                                                                                                                                                                                                                                                                                                                                                                                                                                                                                                                                                                                                                                                                                                                                                                                                                                                                                                                                                                                                                                                                                                                                                                                                                                                                                                                                                                                                                                                                                                  & 1D3cyht8tytCJrbxEwxcBd\\_o1palVLD7l                                                                                                                                                                                                                                                                                                                                                                                                                                                                                                                                                                                                                                                                                                                                                                                                                                                                                                                                                                                                                                                                                                                                                                                                                                                                                                                                                                                                                                                                                                                                                                                                                                                                                                                                                                                                                                                                                                                                                                                                                                                                                                                                                                                                                                                                                                                                                                                                                                                                                                                                                                                                                                                                                                                                                                                                                                                                                                                                                                                                                                                                                                                                                                                                                                                                                                                                                                                                                                                                                                                                                                                                                                                                                                                                                                                                                                                                                                                                                                                                                                                                                                                                                                                                                                                                                                                                                                                                                                                                                                                                                                                                                                                                                                                                                                                                                                                                                                                                                                                                                                                                                                                                                                                                                                                                                                                                                                                                                                                                                                                                                                                                                                                                                                                                                                                                                                                                                                                                                                                                                                                                                                                                                                                                                                                                                                                                                                                                                                                                                                                                                                                                                                                                                                                                                                                                                                                                                                                                                                                                                                                                                                                                                                                                                                                                                                                                                                                                                                                                                                                                                                                                                                                                                                                                                                                                                                                                                                                                                                                                                                                                                                                                                                                                                                                                                                                                                                                                                                                                                                                                                                                                                                                                                                                                                                                                                                                                                                                                                                                                                                                                                                                                                                                                                                                                                                                                                                                                                                                                                                                                                                                                                                                                                                                                                                                                                                                                                                                                                                                                                                                                                                                                                                                                                                                                                                                                                                                                                                                                                                                                                                                                                                                                                                                      & drive\\#file                                                                                        , 1D3cyht8tytCJrbxEwxcBd\\_o1palVLD7l                                                                 , data00\\_raw ingest.rds                                                                             , application/x-gzip                                                                                , FALSE                                                                                             , FALSE                                                                                             , FALSE                                                                                             , 1JbzEMKwMIJYTg3hYyZTBQRFp1575B1ZJ                                                                 , drive                                                                                             , 4                                                                                                 , https://drive.google.com/a/dataseer.com/uc?id=1D3cyht8tytCJrbxEwxcBd\\_o1palVLD7l\\&export=download   , https://drive.google.com/a/dataseer.com/file/d/1D3cyht8tytCJrbxEwxcBd\\_o1palVLD7l/view?usp=drivesdk, https://drive-thirdparty.googleusercontent.com/16/type/application/x-gzip                         , FALSE                                                                                             , 0                                                                                                 , FALSE                                                                                             , 2018-03-09T10:44:07.887Z                                                                          , 2018-03-09T10:44:07.887Z                                                                          , 2018-03-09T10:44:07.887Z                                                                          , TRUE                                                                                              , drive\\#user                                                                                        , Carl Calub                                                                                        , https://lh3.googleusercontent.com/-jRw26VM0aQE/AAAAAAAAAAI/AAAAAAAAAAg/-nMT7AInvfU/s64/photo.jpg  , TRUE                                                                                              , 07521334318440695187                                                                              , carl.calub@dataseer.com                                                                           , drive\\#user                                                                                        , Carl Calub                                                                                        , https://lh3.googleusercontent.com/-jRw26VM0aQE/AAAAAAAAAAI/AAAAAAAAAAg/-nMT7AInvfU/s64/photo.jpg  , TRUE                                                                                              , 07521334318440695187                                                                              , carl.calub@dataseer.com                                                                           , TRUE                                                                                              , TRUE                                                                                              , FALSE                                                                                             , TRUE                                                                                              , TRUE                                                                                              , TRUE                                                                                              , TRUE                                                                                              , TRUE                                                                                              , TRUE                                                                                              , FALSE                                                                                             , TRUE                                                                                              , TRUE                                                                                              , FALSE                                                                                             , TRUE                                                                                              , TRUE                                                                                              , TRUE                                                                                              , TRUE                                                                                              , TRUE                                                                                              , TRUE                                                                                              , drive\\#permission                                                                                  , 07521334318440695187                                                                              , user                                                                                              , carl.calub@dataseer.com                                                                           , owner                                                                                             , Carl Calub                                                                                        , https://lh3.googleusercontent.com/-jRw26VM0aQE/AAAAAAAAAAI/AAAAAAAAAAg/-nMT7AInvfU/s64/photo.jpg  , FALSE                                                                                             , drive\\#permission                                                                                  , 17223120642155110911                                                                              , user                                                                                              , jay.manahan@dataseer.com                                                                          , writer                                                                                            , Jay Manahan                                                                                       , https://lh4.googleusercontent.com/-hmpVBoNR66I/AAAAAAAAAAI/AAAAAAAAAEY/HHx\\_yr06gEg/s64/photo.jpg  , FALSE                                                                                             , drive\\#permission                                                                                  , 11401145347543629605                                                                              , user                                                                                              , rey.baguio@dataseer.com                                                                           , writer                                                                                            , Rey Baguio                                                                                        , https://lh5.googleusercontent.com/-XmHs5qeBpLY/AAAAAAAAAAI/AAAAAAAAAD4/ynauCe71HWs/s64/photo.jpg  , FALSE                                                                                             , drive\\#permission                                                                                  , 09256184627677790000                                                                              , user                                                                                              , robin.ramos@dataseer.com                                                                          , writer                                                                                            , Robin Kamille Ramos                                                                               , https://lh3.googleusercontent.com/-yWCWyIBG-aA/AAAAAAAAAAI/AAAAAAAAAA0/gi-iW4j0Cug/s64/photo.jpg  , FALSE                                                                                             , drive\\#permission                                                                                  , 13830154812158422871k                                                                             , domain                                                                                            , dataseer.com                                                                                      , reader                                                                                            , FALSE                                                                                             , DataSeer                                                                                          , 07521334318440695187                                                                              , 17223120642155110911                                                                              , 11401145347543629605                                                                              , 09256184627677790000                                                                              , 13830154812158422871k                                                                             , data00\\_raw ingest.rds                                                                             , rds                                                                                               , rds                                                                                               , 0d8a79f1d5e6be5dbaf26043b4a83dff                                                                  , 48931                                                                                             , 48931                                                                                             , 0B0-qVmeVH629MHJXOWkveXFIanltMnlDK0hLK1lnWnRaRXN3PQ                                               , TRUE                                                                                              \\\\\n",
       "\\end{tabular}\n"
      ],
      "text/markdown": [
       "\n",
       "name | id | drive_resource | \n",
       "|---|\n",
       "| data00_raw ingest.rds                                                                                                                                                                                                                                                                                                                                                                                                                                                                                                                                                                                                                                                                                                                                                                                                                                                                                                                                                                                                                                                                                                                                                                                                                                                                                                                                                                                                                                                                                                                                                                                                                                                                                                                                                                                                                                                                                                                                                                                                                                                                                                                                                                                                                                                                                                                                                                                                                                                                                                                                                                                                                                                                                                                                                                                                                                                                                                                                                                                                                                                                                                                                                                                                                                                                                                                                                                                                                                                                                                                                                                                                                                                                                                                                                                                                                                                                                                                                                                                                                                                                                                                                                                                                                                                                                                                                                                                                                                                                                                                                                                                                                                                                                                                                                                                                                                                                                                                                                                                                                                                                                                                                                                                                                                                                                                                                                                                                                                                                                                                                                                                                                                                                                                                                                                                                                                                                                                                                                                                                                                                                                                                                                                                                                                                                                                                                                                                                                                                                                                                                                                                                                                                                                                                                                                                                                                                                                                                                                                                                                                                                                                                                                                                                                                                                                                                                                                                                                                                                                                                                                                                                                                                                                                                                                                                                                                                                                                                                                                                                                                                                                                                                                                                                                                                                                                                                                                                                                                                                                                                                                                                                                                                                                                                                                                                                                                                                                                                                                                                                                                                                                                                                                                                                                                                                                                                                                                                                                                                                                                                                                                                                                                                                                                                                                                                                                                                                                                                                                                                                                                                                                                                                                                                                                                                                                                                                                                                                                                                                                                                                                                                                                                                                                                      | 1D3cyht8tytCJrbxEwxcBd_o1palVLD7l                                                                                                                                                                                                                                                                                                                                                                                                                                                                                                                                                                                                                                                                                                                                                                                                                                                                                                                                                                                                                                                                                                                                                                                                                                                                                                                                                                                                                                                                                                                                                                                                                                                                                                                                                                                                                                                                                                                                                                                                                                                                                                                                                                                                                                                                                                                                                                                                                                                                                                                                                                                                                                                                                                                                                                                                                                                                                                                                                                                                                                                                                                                                                                                                                                                                                                                                                                                                                                                                                                                                                                                                                                                                                                                                                                                                                                                                                                                                                                                                                                                                                                                                                                                                                                                                                                                                                                                                                                                                                                                                                                                                                                                                                                                                                                                                                                                                                                                                                                                                                                                                                                                                                                                                                                                                                                                                                                                                                                                                                                                                                                                                                                                                                                                                                                                                                                                                                                                                                                                                                                                                                                                                                                                                                                                                                                                                                                                                                                                                                                                                                                                                                                                                                                                                                                                                                                                                                                                                                                                                                                                                                                                                                                                                                                                                                                                                                                                                                                                                                                                                                                                                                                                                                                                                                                                                                                                                                                                                                                                                                                                                                                                                                                                                                                                                                                                                                                                                                                                                                                                                                                                                                                                                                                                                                                                                                                                                                                                                                                                                                                                                                                                                                                                                                                                                                                                                                                                                                                                                                                                                                                                                                                                                                                                                                                                                                                                                                                                                                                                                                                                                                                                                                                                                                                                                                                                                                                                                                                                                                                                                                                                                                                                                                          | drive#file                                                                                        , 1D3cyht8tytCJrbxEwxcBd_o1palVLD7l                                                                 , data00_raw ingest.rds                                                                             , application/x-gzip                                                                                , FALSE                                                                                             , FALSE                                                                                             , FALSE                                                                                             , 1JbzEMKwMIJYTg3hYyZTBQRFp1575B1ZJ                                                                 , drive                                                                                             , 4                                                                                                 , https://drive.google.com/a/dataseer.com/uc?id=1D3cyht8tytCJrbxEwxcBd_o1palVLD7l&export=download   , https://drive.google.com/a/dataseer.com/file/d/1D3cyht8tytCJrbxEwxcBd_o1palVLD7l/view?usp=drivesdk, https://drive-thirdparty.googleusercontent.com/16/type/application/x-gzip                         , FALSE                                                                                             , 0                                                                                                 , FALSE                                                                                             , 2018-03-09T10:44:07.887Z                                                                          , 2018-03-09T10:44:07.887Z                                                                          , 2018-03-09T10:44:07.887Z                                                                          , TRUE                                                                                              , drive#user                                                                                        , Carl Calub                                                                                        , https://lh3.googleusercontent.com/-jRw26VM0aQE/AAAAAAAAAAI/AAAAAAAAAAg/-nMT7AInvfU/s64/photo.jpg  , TRUE                                                                                              , 07521334318440695187                                                                              , carl.calub@dataseer.com                                                                           , drive#user                                                                                        , Carl Calub                                                                                        , https://lh3.googleusercontent.com/-jRw26VM0aQE/AAAAAAAAAAI/AAAAAAAAAAg/-nMT7AInvfU/s64/photo.jpg  , TRUE                                                                                              , 07521334318440695187                                                                              , carl.calub@dataseer.com                                                                           , TRUE                                                                                              , TRUE                                                                                              , FALSE                                                                                             , TRUE                                                                                              , TRUE                                                                                              , TRUE                                                                                              , TRUE                                                                                              , TRUE                                                                                              , TRUE                                                                                              , FALSE                                                                                             , TRUE                                                                                              , TRUE                                                                                              , FALSE                                                                                             , TRUE                                                                                              , TRUE                                                                                              , TRUE                                                                                              , TRUE                                                                                              , TRUE                                                                                              , TRUE                                                                                              , drive#permission                                                                                  , 07521334318440695187                                                                              , user                                                                                              , carl.calub@dataseer.com                                                                           , owner                                                                                             , Carl Calub                                                                                        , https://lh3.googleusercontent.com/-jRw26VM0aQE/AAAAAAAAAAI/AAAAAAAAAAg/-nMT7AInvfU/s64/photo.jpg  , FALSE                                                                                             , drive#permission                                                                                  , 17223120642155110911                                                                              , user                                                                                              , jay.manahan@dataseer.com                                                                          , writer                                                                                            , Jay Manahan                                                                                       , https://lh4.googleusercontent.com/-hmpVBoNR66I/AAAAAAAAAAI/AAAAAAAAAEY/HHx_yr06gEg/s64/photo.jpg  , FALSE                                                                                             , drive#permission                                                                                  , 11401145347543629605                                                                              , user                                                                                              , rey.baguio@dataseer.com                                                                           , writer                                                                                            , Rey Baguio                                                                                        , https://lh5.googleusercontent.com/-XmHs5qeBpLY/AAAAAAAAAAI/AAAAAAAAAD4/ynauCe71HWs/s64/photo.jpg  , FALSE                                                                                             , drive#permission                                                                                  , 09256184627677790000                                                                              , user                                                                                              , robin.ramos@dataseer.com                                                                          , writer                                                                                            , Robin Kamille Ramos                                                                               , https://lh3.googleusercontent.com/-yWCWyIBG-aA/AAAAAAAAAAI/AAAAAAAAAA0/gi-iW4j0Cug/s64/photo.jpg  , FALSE                                                                                             , drive#permission                                                                                  , 13830154812158422871k                                                                             , domain                                                                                            , dataseer.com                                                                                      , reader                                                                                            , FALSE                                                                                             , DataSeer                                                                                          , 07521334318440695187                                                                              , 17223120642155110911                                                                              , 11401145347543629605                                                                              , 09256184627677790000                                                                              , 13830154812158422871k                                                                             , data00_raw ingest.rds                                                                             , rds                                                                                               , rds                                                                                               , 0d8a79f1d5e6be5dbaf26043b4a83dff                                                                  , 48931                                                                                             , 48931                                                                                             , 0B0-qVmeVH629MHJXOWkveXFIanltMnlDK0hLK1lnWnRaRXN3PQ                                               , TRUE                                                                                               | \n",
       "\n",
       "\n"
      ],
      "text/plain": [
       "  name                  id                               \n",
       "1 data00_raw ingest.rds 1D3cyht8tytCJrbxEwxcBd_o1palVLD7l\n",
       "  drive_resource                                                                                                                                                                                                                                                                                                                                                                                                                                                                                                                                                                                                                                                                                                                                                                                                                                                                                                                                                                                                                                                                                                                                                                                                                                                                                                                                                                                                                                                                                                                                                                                                                                                                                                                                                                                                                                                                                                                                                                                                                                                                                                                                                                                                                                                                                                                                                                                                                                                                                                                                                                                                                                                                                                                                                                                                                                                                                                                                                                                                                                                                                                                                                                                                                                                                                                                                                                                                                                                                                                                                                                                                                                                                                                                                                                                                                                                                                                                                                                                                                                                                                                                                                                                                                                                                                                                                                                                                                                                                                                                                                                                                                                                                                                                                                                                                                                                                                                                                                                                                                                                                                                                                                                                                                                                                                                                                                                                                                                                                                                                                                                                                                                                                                                                                                                                                                                                                                                                                                                                                                                                                                                                                                                                                                                                                                                                                                                                                                                                                                                                                                                                                                                                                                                                                                                                                                                                                                                                                                                                                                                                                                                                                                                                                                                                                                                                                                                                                                                                                                                                                                                                                                                                                                                                                                                                                                                                                                                                                                                                                                                                                                                                                                                                                                                                                                                                                                                                                                                                                                                                                                                                                                                                                                                                                                                                                                                                                                                                                                                                                                                                                                                                                                                                                                                                                                                                                                                                                                                                                                                                                                                                                                                                                                                                                                                                                                                                                                                                                                                                                                                                                                                                                                                                                                                                                                                                                                                                                                                                                                                                                                                                                                                                                                                            \n",
       "1 drive#file                                                                                        , 1D3cyht8tytCJrbxEwxcBd_o1palVLD7l                                                                 , data00_raw ingest.rds                                                                             , application/x-gzip                                                                                , FALSE                                                                                             , FALSE                                                                                             , FALSE                                                                                             , 1JbzEMKwMIJYTg3hYyZTBQRFp1575B1ZJ                                                                 , drive                                                                                             , 4                                                                                                 , https://drive.google.com/a/dataseer.com/uc?id=1D3cyht8tytCJrbxEwxcBd_o1palVLD7l&export=download   , https://drive.google.com/a/dataseer.com/file/d/1D3cyht8tytCJrbxEwxcBd_o1palVLD7l/view?usp=drivesdk, https://drive-thirdparty.googleusercontent.com/16/type/application/x-gzip                         , FALSE                                                                                             , 0                                                                                                 , FALSE                                                                                             , 2018-03-09T10:44:07.887Z                                                                          , 2018-03-09T10:44:07.887Z                                                                          , 2018-03-09T10:44:07.887Z                                                                          , TRUE                                                                                              , drive#user                                                                                        , Carl Calub                                                                                        , https://lh3.googleusercontent.com/-jRw26VM0aQE/AAAAAAAAAAI/AAAAAAAAAAg/-nMT7AInvfU/s64/photo.jpg  , TRUE                                                                                              , 07521334318440695187                                                                              , carl.calub@dataseer.com                                                                           , drive#user                                                                                        , Carl Calub                                                                                        , https://lh3.googleusercontent.com/-jRw26VM0aQE/AAAAAAAAAAI/AAAAAAAAAAg/-nMT7AInvfU/s64/photo.jpg  , TRUE                                                                                              , 07521334318440695187                                                                              , carl.calub@dataseer.com                                                                           , TRUE                                                                                              , TRUE                                                                                              , FALSE                                                                                             , TRUE                                                                                              , TRUE                                                                                              , TRUE                                                                                              , TRUE                                                                                              , TRUE                                                                                              , TRUE                                                                                              , FALSE                                                                                             , TRUE                                                                                              , TRUE                                                                                              , FALSE                                                                                             , TRUE                                                                                              , TRUE                                                                                              , TRUE                                                                                              , TRUE                                                                                              , TRUE                                                                                              , TRUE                                                                                              , drive#permission                                                                                  , 07521334318440695187                                                                              , user                                                                                              , carl.calub@dataseer.com                                                                           , owner                                                                                             , Carl Calub                                                                                        , https://lh3.googleusercontent.com/-jRw26VM0aQE/AAAAAAAAAAI/AAAAAAAAAAg/-nMT7AInvfU/s64/photo.jpg  , FALSE                                                                                             , drive#permission                                                                                  , 17223120642155110911                                                                              , user                                                                                              , jay.manahan@dataseer.com                                                                          , writer                                                                                            , Jay Manahan                                                                                       , https://lh4.googleusercontent.com/-hmpVBoNR66I/AAAAAAAAAAI/AAAAAAAAAEY/HHx_yr06gEg/s64/photo.jpg  , FALSE                                                                                             , drive#permission                                                                                  , 11401145347543629605                                                                              , user                                                                                              , rey.baguio@dataseer.com                                                                           , writer                                                                                            , Rey Baguio                                                                                        , https://lh5.googleusercontent.com/-XmHs5qeBpLY/AAAAAAAAAAI/AAAAAAAAAD4/ynauCe71HWs/s64/photo.jpg  , FALSE                                                                                             , drive#permission                                                                                  , 09256184627677790000                                                                              , user                                                                                              , robin.ramos@dataseer.com                                                                          , writer                                                                                            , Robin Kamille Ramos                                                                               , https://lh3.googleusercontent.com/-yWCWyIBG-aA/AAAAAAAAAAI/AAAAAAAAAA0/gi-iW4j0Cug/s64/photo.jpg  , FALSE                                                                                             , drive#permission                                                                                  , 13830154812158422871k                                                                             , domain                                                                                            , dataseer.com                                                                                      , reader                                                                                            , FALSE                                                                                             , DataSeer                                                                                          , 07521334318440695187                                                                              , 17223120642155110911                                                                              , 11401145347543629605                                                                              , 09256184627677790000                                                                              , 13830154812158422871k                                                                             , data00_raw ingest.rds                                                                             , rds                                                                                               , rds                                                                                               , 0d8a79f1d5e6be5dbaf26043b4a83dff                                                                  , 48931                                                                                             , 48931                                                                                             , 0B0-qVmeVH629MHJXOWkveXFIanltMnlDK0hLK1lnWnRaRXN3PQ                                               , TRUE                                                                                              "
      ]
     },
     "metadata": {},
     "output_type": "display_data"
    }
   ],
   "source": [
    "(data.files <- as_id(datastage.id) %>% drive_ls_from_id())"
   ]
  },
  {
   "cell_type": "markdown",
   "metadata": {},
   "source": [
    "## `data00_raw ingest.rds`"
   ]
  },
  {
   "cell_type": "markdown",
   "metadata": {},
   "source": [
    "### Download"
   ]
  },
  {
   "cell_type": "code",
   "execution_count": 4,
   "metadata": {},
   "outputs": [
    {
     "name": "stderr",
     "output_type": "stream",
     "text": [
      "File downloaded:\n",
      "  * data00_raw ingest.rds\n",
      "Saved locally as:\n",
      "  * ../Data/data00_raw ingest.rds\n"
     ]
    }
   ],
   "source": [
    "cache.file <- \"data00_raw ingest.rds\"\n",
    "cachefile.id <- drive_sub_id(datastage.id, cache.file) # Get GDrive ID\n",
    "cachefile.path <- file.path(proxydata.path, cache.file) # Set proxy data:// path\n",
    "drive_download(as_id(cachefile.id), path = cachefile.path, overwrite = TRUE)"
   ]
  },
  {
   "cell_type": "markdown",
   "metadata": {},
   "source": [
    "### Load"
   ]
  },
  {
   "cell_type": "code",
   "execution_count": 5,
   "metadata": {},
   "outputs": [
    {
     "name": "stdout",
     "output_type": "stream",
     "text": [
      "Classes 'tbl_df', 'tbl' and 'data.frame':\t1470 obs. of  32 variables:\n",
      " $ Age                     : num  41 49 37 33 27 32 59 30 38 36 ...\n",
      " $ Attrition               : Factor w/ 2 levels \"No\",\"Yes\": 2 1 2 1 1 1 1 1 1 1 ...\n",
      " $ BusinessTravel          : Factor w/ 3 levels \"Non-Travel\",\"Rarely\",..: 2 3 2 3 2 3 2 2 3 2 ...\n",
      " $ DailyRate               : num  1102 279 1373 1392 591 ...\n",
      " $ Department              : Factor w/ 3 levels \"Human Resources\",..: 3 2 2 2 2 2 2 2 2 2 ...\n",
      " $ DistanceFromHome        : num  1 8 2 3 2 2 3 24 23 27 ...\n",
      " $ Education               : Factor w/ 5 levels \"Below College\",..: 2 1 2 4 1 2 3 1 3 3 ...\n",
      " $ EducationField          : chr  \"Life Sciences\" \"Life Sciences\" \"Other\" \"Life Sciences\" ...\n",
      " $ EmployeeNumber          : chr  \"0001\" \"0002\" \"0004\" \"0005\" ...\n",
      " $ EnvironmentSatisfaction : Factor w/ 4 levels \"Low\",\"Medium\",..: 2 3 4 4 1 4 3 4 4 3 ...\n",
      " $ Gender                  : Factor w/ 2 levels \"Female\",\"Male\": 1 2 2 1 2 2 1 2 2 2 ...\n",
      " $ HourlyRate              : num  94 61 92 56 40 79 81 67 44 94 ...\n",
      " $ JobInvolvement          : Factor w/ 4 levels \"Low\",\"Medium\",..: 3 2 2 3 3 3 4 3 2 3 ...\n",
      " $ JobLevel                : num  2 2 1 1 1 1 1 1 3 2 ...\n",
      " $ JobRole                 : chr  \"Sales Executive\" \"Research Scientist\" \"Laboratory Technician\" \"Research Scientist\" ...\n",
      " $ JobSatisfaction         : Factor w/ 4 levels \"Low\",\"Medium\",..: 4 2 3 3 2 4 1 3 3 3 ...\n",
      " $ MaritalStatus           : Factor w/ 3 levels \"Divorced\",\"Married\",..: 3 2 3 2 2 3 2 1 3 2 ...\n",
      " $ MonthlyIncome           : num  5993 5130 2090 2909 3468 ...\n",
      " $ MonthlyRate             : num  19479 24907 2396 23159 16632 ...\n",
      " $ NumCompaniesWorked      : num  8 1 6 1 9 0 4 1 0 6 ...\n",
      " $ OverTime                : Factor w/ 2 levels \"No\",\"Yes\": 2 1 2 2 1 1 2 1 1 1 ...\n",
      " $ PercentSalaryHike       : num  11 23 15 11 12 13 20 22 21 13 ...\n",
      " $ PerformanceRating       : Factor w/ 4 levels \"Low\",\"Good\",\"Excellent\",..: 3 4 3 3 3 3 4 4 4 3 ...\n",
      " $ RelationshipSatisfaction: Factor w/ 4 levels \"Low\",\"Medium\",..: 1 4 2 3 4 3 1 2 2 2 ...\n",
      " $ StockOptionLevel        : Factor w/ 4 levels \"0\",\"1\",\"2\",\"3\": 1 2 1 1 2 1 4 2 1 3 ...\n",
      " $ TotalWorkingYears       : num  8 10 7 8 6 8 12 1 10 17 ...\n",
      " $ TrainingTimesLastYear   : num  0 3 3 3 3 2 3 2 2 3 ...\n",
      " $ WorkLifeBalance         : Factor w/ 4 levels \"Bad\",\"Good\",\"Better\",..: 1 3 3 3 3 2 2 3 3 2 ...\n",
      " $ YearsAtCompany          : num  6 10 0 8 2 7 1 1 9 7 ...\n",
      " $ YearsInCurrentRole      : num  4 7 0 7 2 7 0 0 7 7 ...\n",
      " $ YearsSinceLastPromotion : num  0 1 0 3 2 3 0 0 1 7 ...\n",
      " $ YearsWithCurrManager    : num  5 7 0 0 2 6 0 0 8 7 ...\n"
     ]
    }
   ],
   "source": [
    "hr.raw <- readRDS(cachefile.path)\n",
    "str(hr.raw)"
   ]
  },
  {
   "cell_type": "markdown",
   "metadata": {},
   "source": [
    "# Clean data"
   ]
  },
  {
   "cell_type": "code",
   "execution_count": 17,
   "metadata": {
    "collapsed": true
   },
   "outputs": [],
   "source": [
    "hr.df <- hr.raw # Create canvas for wrangling"
   ]
  },
  {
   "cell_type": "markdown",
   "metadata": {},
   "source": [
    "## Inspect missingness"
   ]
  },
  {
   "cell_type": "code",
   "execution_count": 18,
   "metadata": {},
   "outputs": [
    {
     "data": {
      "text/html": [
       "<dl class=dl-horizontal>\n",
       "\t<dt>Age</dt>\n",
       "\t\t<dd>0</dd>\n",
       "\t<dt>Attrition</dt>\n",
       "\t\t<dd>0</dd>\n",
       "\t<dt>BusinessTravel</dt>\n",
       "\t\t<dd>0</dd>\n",
       "\t<dt>DailyRate</dt>\n",
       "\t\t<dd>0</dd>\n",
       "\t<dt>Department</dt>\n",
       "\t\t<dd>0</dd>\n",
       "\t<dt>DistanceFromHome</dt>\n",
       "\t\t<dd>0</dd>\n",
       "\t<dt>Education</dt>\n",
       "\t\t<dd>0</dd>\n",
       "\t<dt>EducationField</dt>\n",
       "\t\t<dd>0</dd>\n",
       "\t<dt>EmployeeNumber</dt>\n",
       "\t\t<dd>0</dd>\n",
       "\t<dt>EnvironmentSatisfaction</dt>\n",
       "\t\t<dd>0</dd>\n",
       "\t<dt>Gender</dt>\n",
       "\t\t<dd>0</dd>\n",
       "\t<dt>HourlyRate</dt>\n",
       "\t\t<dd>0</dd>\n",
       "\t<dt>JobInvolvement</dt>\n",
       "\t\t<dd>0</dd>\n",
       "\t<dt>JobLevel</dt>\n",
       "\t\t<dd>0</dd>\n",
       "\t<dt>JobRole</dt>\n",
       "\t\t<dd>0</dd>\n",
       "\t<dt>JobSatisfaction</dt>\n",
       "\t\t<dd>0</dd>\n",
       "\t<dt>MaritalStatus</dt>\n",
       "\t\t<dd>0</dd>\n",
       "\t<dt>MonthlyIncome</dt>\n",
       "\t\t<dd>0</dd>\n",
       "\t<dt>MonthlyRate</dt>\n",
       "\t\t<dd>0</dd>\n",
       "\t<dt>NumCompaniesWorked</dt>\n",
       "\t\t<dd>0</dd>\n",
       "\t<dt>OverTime</dt>\n",
       "\t\t<dd>0</dd>\n",
       "\t<dt>PercentSalaryHike</dt>\n",
       "\t\t<dd>0</dd>\n",
       "\t<dt>PerformanceRating</dt>\n",
       "\t\t<dd>0</dd>\n",
       "\t<dt>RelationshipSatisfaction</dt>\n",
       "\t\t<dd>0</dd>\n",
       "\t<dt>StockOptionLevel</dt>\n",
       "\t\t<dd>0</dd>\n",
       "\t<dt>TotalWorkingYears</dt>\n",
       "\t\t<dd>0</dd>\n",
       "\t<dt>TrainingTimesLastYear</dt>\n",
       "\t\t<dd>0</dd>\n",
       "\t<dt>WorkLifeBalance</dt>\n",
       "\t\t<dd>0</dd>\n",
       "\t<dt>YearsAtCompany</dt>\n",
       "\t\t<dd>0</dd>\n",
       "\t<dt>YearsInCurrentRole</dt>\n",
       "\t\t<dd>0</dd>\n",
       "\t<dt>YearsSinceLastPromotion</dt>\n",
       "\t\t<dd>0</dd>\n",
       "\t<dt>YearsWithCurrManager</dt>\n",
       "\t\t<dd>0</dd>\n",
       "</dl>\n"
      ],
      "text/latex": [
       "\\begin{description*}\n",
       "\\item[Age] 0\n",
       "\\item[Attrition] 0\n",
       "\\item[BusinessTravel] 0\n",
       "\\item[DailyRate] 0\n",
       "\\item[Department] 0\n",
       "\\item[DistanceFromHome] 0\n",
       "\\item[Education] 0\n",
       "\\item[EducationField] 0\n",
       "\\item[EmployeeNumber] 0\n",
       "\\item[EnvironmentSatisfaction] 0\n",
       "\\item[Gender] 0\n",
       "\\item[HourlyRate] 0\n",
       "\\item[JobInvolvement] 0\n",
       "\\item[JobLevel] 0\n",
       "\\item[JobRole] 0\n",
       "\\item[JobSatisfaction] 0\n",
       "\\item[MaritalStatus] 0\n",
       "\\item[MonthlyIncome] 0\n",
       "\\item[MonthlyRate] 0\n",
       "\\item[NumCompaniesWorked] 0\n",
       "\\item[OverTime] 0\n",
       "\\item[PercentSalaryHike] 0\n",
       "\\item[PerformanceRating] 0\n",
       "\\item[RelationshipSatisfaction] 0\n",
       "\\item[StockOptionLevel] 0\n",
       "\\item[TotalWorkingYears] 0\n",
       "\\item[TrainingTimesLastYear] 0\n",
       "\\item[WorkLifeBalance] 0\n",
       "\\item[YearsAtCompany] 0\n",
       "\\item[YearsInCurrentRole] 0\n",
       "\\item[YearsSinceLastPromotion] 0\n",
       "\\item[YearsWithCurrManager] 0\n",
       "\\end{description*}\n"
      ],
      "text/markdown": [
       "Age\n",
       ":   0Attrition\n",
       ":   0BusinessTravel\n",
       ":   0DailyRate\n",
       ":   0Department\n",
       ":   0DistanceFromHome\n",
       ":   0Education\n",
       ":   0EducationField\n",
       ":   0EmployeeNumber\n",
       ":   0EnvironmentSatisfaction\n",
       ":   0Gender\n",
       ":   0HourlyRate\n",
       ":   0JobInvolvement\n",
       ":   0JobLevel\n",
       ":   0JobRole\n",
       ":   0JobSatisfaction\n",
       ":   0MaritalStatus\n",
       ":   0MonthlyIncome\n",
       ":   0MonthlyRate\n",
       ":   0NumCompaniesWorked\n",
       ":   0OverTime\n",
       ":   0PercentSalaryHike\n",
       ":   0PerformanceRating\n",
       ":   0RelationshipSatisfaction\n",
       ":   0StockOptionLevel\n",
       ":   0TotalWorkingYears\n",
       ":   0TrainingTimesLastYear\n",
       ":   0WorkLifeBalance\n",
       ":   0YearsAtCompany\n",
       ":   0YearsInCurrentRole\n",
       ":   0YearsSinceLastPromotion\n",
       ":   0YearsWithCurrManager\n",
       ":   0\n",
       "\n"
      ],
      "text/plain": [
       "                     Age                Attrition           BusinessTravel \n",
       "                       0                        0                        0 \n",
       "               DailyRate               Department         DistanceFromHome \n",
       "                       0                        0                        0 \n",
       "               Education           EducationField           EmployeeNumber \n",
       "                       0                        0                        0 \n",
       " EnvironmentSatisfaction                   Gender               HourlyRate \n",
       "                       0                        0                        0 \n",
       "          JobInvolvement                 JobLevel                  JobRole \n",
       "                       0                        0                        0 \n",
       "         JobSatisfaction            MaritalStatus            MonthlyIncome \n",
       "                       0                        0                        0 \n",
       "             MonthlyRate       NumCompaniesWorked                 OverTime \n",
       "                       0                        0                        0 \n",
       "       PercentSalaryHike        PerformanceRating RelationshipSatisfaction \n",
       "                       0                        0                        0 \n",
       "        StockOptionLevel        TotalWorkingYears    TrainingTimesLastYear \n",
       "                       0                        0                        0 \n",
       "         WorkLifeBalance           YearsAtCompany       YearsInCurrentRole \n",
       "                       0                        0                        0 \n",
       " YearsSinceLastPromotion     YearsWithCurrManager \n",
       "                       0                        0 "
      ]
     },
     "metadata": {},
     "output_type": "display_data"
    }
   ],
   "source": [
    "sapply(hr.df, countNA)"
   ]
  },
  {
   "cell_type": "markdown",
   "metadata": {},
   "source": [
    "No `NA` values."
   ]
  },
  {
   "cell_type": "markdown",
   "metadata": {},
   "source": [
    "## Check key *EmployeeNumber* validity"
   ]
  },
  {
   "cell_type": "code",
   "execution_count": 19,
   "metadata": {
    "scrolled": true
   },
   "outputs": [
    {
     "data": {
      "text/html": [
       "<table>\n",
       "<thead><tr><th scope=col>EmployeeNumber</th><th scope=col>nrow</th></tr></thead>\n",
       "<tbody>\n",
       "\t<tr><td>0001</td><td>1   </td></tr>\n",
       "\t<tr><td>0002</td><td>1   </td></tr>\n",
       "\t<tr><td>0004</td><td>1   </td></tr>\n",
       "\t<tr><td>0005</td><td>1   </td></tr>\n",
       "\t<tr><td>0007</td><td>1   </td></tr>\n",
       "\t<tr><td>0008</td><td>1   </td></tr>\n",
       "\t<tr><td>0010</td><td>1   </td></tr>\n",
       "\t<tr><td>0011</td><td>1   </td></tr>\n",
       "\t<tr><td>0012</td><td>1   </td></tr>\n",
       "\t<tr><td>0013</td><td>1   </td></tr>\n",
       "\t<tr><td>0014</td><td>1   </td></tr>\n",
       "\t<tr><td>0015</td><td>1   </td></tr>\n",
       "\t<tr><td>0016</td><td>1   </td></tr>\n",
       "\t<tr><td>0018</td><td>1   </td></tr>\n",
       "\t<tr><td>0019</td><td>1   </td></tr>\n",
       "\t<tr><td>0020</td><td>1   </td></tr>\n",
       "\t<tr><td>0021</td><td>1   </td></tr>\n",
       "\t<tr><td>0022</td><td>1   </td></tr>\n",
       "\t<tr><td>0023</td><td>1   </td></tr>\n",
       "\t<tr><td>0024</td><td>1   </td></tr>\n",
       "\t<tr><td>0026</td><td>1   </td></tr>\n",
       "\t<tr><td>0027</td><td>1   </td></tr>\n",
       "\t<tr><td>0028</td><td>1   </td></tr>\n",
       "\t<tr><td>0030</td><td>1   </td></tr>\n",
       "\t<tr><td>0031</td><td>1   </td></tr>\n",
       "\t<tr><td>0032</td><td>1   </td></tr>\n",
       "\t<tr><td>0033</td><td>1   </td></tr>\n",
       "\t<tr><td>0035</td><td>1   </td></tr>\n",
       "\t<tr><td>0036</td><td>1   </td></tr>\n",
       "\t<tr><td>0038</td><td>1   </td></tr>\n",
       "\t<tr><td>...</td><td>...</td></tr>\n",
       "\t<tr><td>2025</td><td>1   </td></tr>\n",
       "\t<tr><td>2026</td><td>1   </td></tr>\n",
       "\t<tr><td>2027</td><td>1   </td></tr>\n",
       "\t<tr><td>2031</td><td>1   </td></tr>\n",
       "\t<tr><td>2032</td><td>1   </td></tr>\n",
       "\t<tr><td>2034</td><td>1   </td></tr>\n",
       "\t<tr><td>2035</td><td>1   </td></tr>\n",
       "\t<tr><td>2036</td><td>1   </td></tr>\n",
       "\t<tr><td>2037</td><td>1   </td></tr>\n",
       "\t<tr><td>2038</td><td>1   </td></tr>\n",
       "\t<tr><td>2040</td><td>1   </td></tr>\n",
       "\t<tr><td>2041</td><td>1   </td></tr>\n",
       "\t<tr><td>2044</td><td>1   </td></tr>\n",
       "\t<tr><td>2045</td><td>1   </td></tr>\n",
       "\t<tr><td>2046</td><td>1   </td></tr>\n",
       "\t<tr><td>2048</td><td>1   </td></tr>\n",
       "\t<tr><td>2049</td><td>1   </td></tr>\n",
       "\t<tr><td>2051</td><td>1   </td></tr>\n",
       "\t<tr><td>2052</td><td>1   </td></tr>\n",
       "\t<tr><td>2053</td><td>1   </td></tr>\n",
       "\t<tr><td>2054</td><td>1   </td></tr>\n",
       "\t<tr><td>2055</td><td>1   </td></tr>\n",
       "\t<tr><td>2056</td><td>1   </td></tr>\n",
       "\t<tr><td>2057</td><td>1   </td></tr>\n",
       "\t<tr><td>2060</td><td>1   </td></tr>\n",
       "\t<tr><td>2061</td><td>1   </td></tr>\n",
       "\t<tr><td>2062</td><td>1   </td></tr>\n",
       "\t<tr><td>2064</td><td>1   </td></tr>\n",
       "\t<tr><td>2065</td><td>1   </td></tr>\n",
       "\t<tr><td>2068</td><td>1   </td></tr>\n",
       "</tbody>\n",
       "</table>\n"
      ],
      "text/latex": [
       "\\begin{tabular}{r|ll}\n",
       " EmployeeNumber & nrow\\\\\n",
       "\\hline\n",
       "\t 0001 & 1   \\\\\n",
       "\t 0002 & 1   \\\\\n",
       "\t 0004 & 1   \\\\\n",
       "\t 0005 & 1   \\\\\n",
       "\t 0007 & 1   \\\\\n",
       "\t 0008 & 1   \\\\\n",
       "\t 0010 & 1   \\\\\n",
       "\t 0011 & 1   \\\\\n",
       "\t 0012 & 1   \\\\\n",
       "\t 0013 & 1   \\\\\n",
       "\t 0014 & 1   \\\\\n",
       "\t 0015 & 1   \\\\\n",
       "\t 0016 & 1   \\\\\n",
       "\t 0018 & 1   \\\\\n",
       "\t 0019 & 1   \\\\\n",
       "\t 0020 & 1   \\\\\n",
       "\t 0021 & 1   \\\\\n",
       "\t 0022 & 1   \\\\\n",
       "\t 0023 & 1   \\\\\n",
       "\t 0024 & 1   \\\\\n",
       "\t 0026 & 1   \\\\\n",
       "\t 0027 & 1   \\\\\n",
       "\t 0028 & 1   \\\\\n",
       "\t 0030 & 1   \\\\\n",
       "\t 0031 & 1   \\\\\n",
       "\t 0032 & 1   \\\\\n",
       "\t 0033 & 1   \\\\\n",
       "\t 0035 & 1   \\\\\n",
       "\t 0036 & 1   \\\\\n",
       "\t 0038 & 1   \\\\\n",
       "\t ... & ...\\\\\n",
       "\t 2025 & 1   \\\\\n",
       "\t 2026 & 1   \\\\\n",
       "\t 2027 & 1   \\\\\n",
       "\t 2031 & 1   \\\\\n",
       "\t 2032 & 1   \\\\\n",
       "\t 2034 & 1   \\\\\n",
       "\t 2035 & 1   \\\\\n",
       "\t 2036 & 1   \\\\\n",
       "\t 2037 & 1   \\\\\n",
       "\t 2038 & 1   \\\\\n",
       "\t 2040 & 1   \\\\\n",
       "\t 2041 & 1   \\\\\n",
       "\t 2044 & 1   \\\\\n",
       "\t 2045 & 1   \\\\\n",
       "\t 2046 & 1   \\\\\n",
       "\t 2048 & 1   \\\\\n",
       "\t 2049 & 1   \\\\\n",
       "\t 2051 & 1   \\\\\n",
       "\t 2052 & 1   \\\\\n",
       "\t 2053 & 1   \\\\\n",
       "\t 2054 & 1   \\\\\n",
       "\t 2055 & 1   \\\\\n",
       "\t 2056 & 1   \\\\\n",
       "\t 2057 & 1   \\\\\n",
       "\t 2060 & 1   \\\\\n",
       "\t 2061 & 1   \\\\\n",
       "\t 2062 & 1   \\\\\n",
       "\t 2064 & 1   \\\\\n",
       "\t 2065 & 1   \\\\\n",
       "\t 2068 & 1   \\\\\n",
       "\\end{tabular}\n"
      ],
      "text/markdown": [
       "\n",
       "EmployeeNumber | nrow | \n",
       "|---|---|---|---|---|---|---|---|---|---|---|---|---|---|---|---|---|---|---|---|---|---|---|---|---|---|---|---|---|---|---|---|---|---|---|---|---|---|---|---|---|---|---|---|---|---|---|---|---|---|---|---|---|---|---|---|---|---|---|---|---|\n",
       "| 0001 | 1    | \n",
       "| 0002 | 1    | \n",
       "| 0004 | 1    | \n",
       "| 0005 | 1    | \n",
       "| 0007 | 1    | \n",
       "| 0008 | 1    | \n",
       "| 0010 | 1    | \n",
       "| 0011 | 1    | \n",
       "| 0012 | 1    | \n",
       "| 0013 | 1    | \n",
       "| 0014 | 1    | \n",
       "| 0015 | 1    | \n",
       "| 0016 | 1    | \n",
       "| 0018 | 1    | \n",
       "| 0019 | 1    | \n",
       "| 0020 | 1    | \n",
       "| 0021 | 1    | \n",
       "| 0022 | 1    | \n",
       "| 0023 | 1    | \n",
       "| 0024 | 1    | \n",
       "| 0026 | 1    | \n",
       "| 0027 | 1    | \n",
       "| 0028 | 1    | \n",
       "| 0030 | 1    | \n",
       "| 0031 | 1    | \n",
       "| 0032 | 1    | \n",
       "| 0033 | 1    | \n",
       "| 0035 | 1    | \n",
       "| 0036 | 1    | \n",
       "| 0038 | 1    | \n",
       "| ... | ... | \n",
       "| 2025 | 1    | \n",
       "| 2026 | 1    | \n",
       "| 2027 | 1    | \n",
       "| 2031 | 1    | \n",
       "| 2032 | 1    | \n",
       "| 2034 | 1    | \n",
       "| 2035 | 1    | \n",
       "| 2036 | 1    | \n",
       "| 2037 | 1    | \n",
       "| 2038 | 1    | \n",
       "| 2040 | 1    | \n",
       "| 2041 | 1    | \n",
       "| 2044 | 1    | \n",
       "| 2045 | 1    | \n",
       "| 2046 | 1    | \n",
       "| 2048 | 1    | \n",
       "| 2049 | 1    | \n",
       "| 2051 | 1    | \n",
       "| 2052 | 1    | \n",
       "| 2053 | 1    | \n",
       "| 2054 | 1    | \n",
       "| 2055 | 1    | \n",
       "| 2056 | 1    | \n",
       "| 2057 | 1    | \n",
       "| 2060 | 1    | \n",
       "| 2061 | 1    | \n",
       "| 2062 | 1    | \n",
       "| 2064 | 1    | \n",
       "| 2065 | 1    | \n",
       "| 2068 | 1    | \n",
       "\n",
       "\n"
      ],
      "text/plain": [
       "     EmployeeNumber nrow\n",
       "1    0001           1   \n",
       "2    0002           1   \n",
       "3    0004           1   \n",
       "4    0005           1   \n",
       "5    0007           1   \n",
       "6    0008           1   \n",
       "7    0010           1   \n",
       "8    0011           1   \n",
       "9    0012           1   \n",
       "10   0013           1   \n",
       "11   0014           1   \n",
       "12   0015           1   \n",
       "13   0016           1   \n",
       "14   0018           1   \n",
       "15   0019           1   \n",
       "16   0020           1   \n",
       "17   0021           1   \n",
       "18   0022           1   \n",
       "19   0023           1   \n",
       "20   0024           1   \n",
       "21   0026           1   \n",
       "22   0027           1   \n",
       "23   0028           1   \n",
       "24   0030           1   \n",
       "25   0031           1   \n",
       "26   0032           1   \n",
       "27   0033           1   \n",
       "28   0035           1   \n",
       "29   0036           1   \n",
       "30   0038           1   \n",
       "...  ...            ... \n",
       "1441 2025           1   \n",
       "1442 2026           1   \n",
       "1443 2027           1   \n",
       "1444 2031           1   \n",
       "1445 2032           1   \n",
       "1446 2034           1   \n",
       "1447 2035           1   \n",
       "1448 2036           1   \n",
       "1449 2037           1   \n",
       "1450 2038           1   \n",
       "1451 2040           1   \n",
       "1452 2041           1   \n",
       "1453 2044           1   \n",
       "1454 2045           1   \n",
       "1455 2046           1   \n",
       "1456 2048           1   \n",
       "1457 2049           1   \n",
       "1458 2051           1   \n",
       "1459 2052           1   \n",
       "1460 2053           1   \n",
       "1461 2054           1   \n",
       "1462 2055           1   \n",
       "1463 2056           1   \n",
       "1464 2057           1   \n",
       "1465 2060           1   \n",
       "1466 2061           1   \n",
       "1467 2062           1   \n",
       "1468 2064           1   \n",
       "1469 2065           1   \n",
       "1470 2068           1   "
      ]
     },
     "metadata": {},
     "output_type": "display_data"
    }
   ],
   "source": [
    "hr.df %>% group_by(EmployeeNumber) %>% summarise(nrow = n()) %>% arrange(desc(nrow))"
   ]
  },
  {
   "cell_type": "markdown",
   "metadata": {},
   "source": [
    "There is no duplicate key since first *nrow* entry is `1`."
   ]
  },
  {
   "cell_type": "code",
   "execution_count": 20,
   "metadata": {},
   "outputs": [
    {
     "data": {
      "text/html": [
       "<table>\n",
       "<thead><tr><th scope=col>EmployeeNumber</th><th scope=col>nrow</th></tr></thead>\n",
       "<tbody>\n",
       "</tbody>\n",
       "</table>\n"
      ],
      "text/latex": [
       "\\begin{tabular}{r|ll}\n",
       " EmployeeNumber & nrow\\\\\n",
       "\\hline\n",
       "\\end{tabular}\n"
      ],
      "text/markdown": [
       "\n",
       "EmployeeNumber | nrow | \n",
       "||\n",
       "\n",
       "\n"
      ],
      "text/plain": [
       "     EmployeeNumber nrow"
      ]
     },
     "metadata": {},
     "output_type": "display_data"
    }
   ],
   "source": [
    "# Confirm no dup key\n",
    "hr.df %>% group_by(EmployeeNumber) %>% summarise(nrow = n()) %>% filter(nrow > 1)"
   ]
  },
  {
   "cell_type": "markdown",
   "metadata": {},
   "source": [
    "Confirmed no dup key."
   ]
  },
  {
   "cell_type": "markdown",
   "metadata": {},
   "source": [
    "## Disambiguate columns"
   ]
  },
  {
   "cell_type": "code",
   "execution_count": 21,
   "metadata": {},
   "outputs": [
    {
     "name": "stdout",
     "output_type": "stream",
     "text": [
      "Classes 'tbl_df', 'tbl' and 'data.frame':\t1470 obs. of  32 variables:\n",
      " $ Age                     : num  41 49 37 33 27 32 59 30 38 36 ...\n",
      " $ Attrition               : Factor w/ 2 levels \"No\",\"Yes\": 2 1 2 1 1 1 1 1 1 1 ...\n",
      " $ BusinessTravel          : Factor w/ 3 levels \"Non-Travel\",\"Rarely\",..: 2 3 2 3 2 3 2 2 3 2 ...\n",
      " $ DailyRate               : num  1102 279 1373 1392 591 ...\n",
      " $ Department              : Factor w/ 3 levels \"Human Resources\",..: 3 2 2 2 2 2 2 2 2 2 ...\n",
      " $ DistanceFromHome        : num  1 8 2 3 2 2 3 24 23 27 ...\n",
      " $ Education               : Factor w/ 5 levels \"Below College\",..: 2 1 2 4 1 2 3 1 3 3 ...\n",
      " $ EducationField          : chr  \"Life Sciences\" \"Life Sciences\" \"Other\" \"Life Sciences\" ...\n",
      " $ EmployeeNumber          : chr  \"0001\" \"0002\" \"0004\" \"0005\" ...\n",
      " $ EnvironmentSatisfaction : Factor w/ 4 levels \"Low\",\"Medium\",..: 2 3 4 4 1 4 3 4 4 3 ...\n",
      " $ Gender                  : Factor w/ 2 levels \"Female\",\"Male\": 1 2 2 1 2 2 1 2 2 2 ...\n",
      " $ HourlyRate              : num  94 61 92 56 40 79 81 67 44 94 ...\n",
      " $ JobInvolvement          : Factor w/ 4 levels \"Low\",\"Medium\",..: 3 2 2 3 3 3 4 3 2 3 ...\n",
      " $ JobLevel                : num  2 2 1 1 1 1 1 1 3 2 ...\n",
      " $ JobRole                 : chr  \"Sales Executive\" \"Research Scientist\" \"Laboratory Technician\" \"Research Scientist\" ...\n",
      " $ JobSatisfaction         : Factor w/ 4 levels \"Low\",\"Medium\",..: 4 2 3 3 2 4 1 3 3 3 ...\n",
      " $ MaritalStatus           : Factor w/ 3 levels \"Divorced\",\"Married\",..: 3 2 3 2 2 3 2 1 3 2 ...\n",
      " $ MonthlyIncome           : num  5993 5130 2090 2909 3468 ...\n",
      " $ MonthlyRate             : num  19479 24907 2396 23159 16632 ...\n",
      " $ NumCompaniesWorked      : num  8 1 6 1 9 0 4 1 0 6 ...\n",
      " $ OverTime                : Factor w/ 2 levels \"No\",\"Yes\": 2 1 2 2 1 1 2 1 1 1 ...\n",
      " $ PercentSalaryHike       : num  11 23 15 11 12 13 20 22 21 13 ...\n",
      " $ PerformanceRating       : Factor w/ 4 levels \"Low\",\"Good\",\"Excellent\",..: 3 4 3 3 3 3 4 4 4 3 ...\n",
      " $ RelationshipSatisfaction: Factor w/ 4 levels \"Low\",\"Medium\",..: 1 4 2 3 4 3 1 2 2 2 ...\n",
      " $ StockOptionLevel        : Factor w/ 4 levels \"0\",\"1\",\"2\",\"3\": 1 2 1 1 2 1 4 2 1 3 ...\n",
      " $ TotalWorkingYears       : num  8 10 7 8 6 8 12 1 10 17 ...\n",
      " $ TrainingTimesLastYear   : num  0 3 3 3 3 2 3 2 2 3 ...\n",
      " $ WorkLifeBalance         : Factor w/ 4 levels \"Bad\",\"Good\",\"Better\",..: 1 3 3 3 3 2 2 3 3 2 ...\n",
      " $ YearsAtCompany          : num  6 10 0 8 2 7 1 1 9 7 ...\n",
      " $ YearsInCurrentRole      : num  4 7 0 7 2 7 0 0 7 7 ...\n",
      " $ YearsSinceLastPromotion : num  0 1 0 3 2 3 0 0 1 7 ...\n",
      " $ YearsWithCurrManager    : num  5 7 0 0 2 6 0 0 8 7 ...\n"
     ]
    }
   ],
   "source": [
    "str(hr.df)"
   ]
  },
  {
   "cell_type": "markdown",
   "metadata": {},
   "source": [
    "The ff ambiguities have been determined:\n",
    "\n",
    "- [ ] Ambiguous salary across *DailyRate*, *HourlyRate*, *MonthlyRate*, and *MonthlyIncome* columns\n",
    "- [ ] Render computer-friendly fields for *Separated*, *OverTime*, and *SalaryHike*"
   ]
  },
  {
   "cell_type": "markdown",
   "metadata": {},
   "source": [
    "### Ambiguous \\**Rate* and *Income* columns"
   ]
  },
  {
   "cell_type": "code",
   "execution_count": 22,
   "metadata": {},
   "outputs": [
    {
     "data": {},
     "metadata": {},
     "output_type": "display_data"
    },
    {
     "data": {
      "image/png": "[encoded data removed]",
      "text/plain": [
       "plot without title"
      ]
     },
     "metadata": {},
     "output_type": "display_data"
    }
   ],
   "source": [
    "GGally::ggpairs(hr.df %>% select(ends_with(\"Rate\"), ends_with(\"Income\"))) + theme_basic()"
   ]
  },
  {
   "cell_type": "markdown",
   "metadata": {},
   "source": [
    "**WHEREAS**, `HourlyRate`, `DailyRate`, and `MonthlyRate` are not related with one another.\n",
    "\n",
    "**WHEREAS**, Neither are they related to `MonthlyIncome`.\n",
    "\n",
    "**WHEREAS**, They are also uniformly distributed.\n",
    "\n",
    "**WHEREAS**, `MonthlyIncome` has a skewed distribution.\n",
    "\n",
    "**BE IT RESOLVED**, Use `MonthlyIncome`; ditch everything else."
   ]
  },
  {
   "cell_type": "code",
   "execution_count": 23,
   "metadata": {},
   "outputs": [
    {
     "name": "stdout",
     "output_type": "stream",
     "text": [
      "Classes 'tbl_df', 'tbl' and 'data.frame':\t1470 obs. of  29 variables:\n",
      " $ Age                     : num  41 49 37 33 27 32 59 30 38 36 ...\n",
      " $ Attrition               : Factor w/ 2 levels \"No\",\"Yes\": 2 1 2 1 1 1 1 1 1 1 ...\n",
      " $ BusinessTravel          : Factor w/ 3 levels \"Non-Travel\",\"Rarely\",..: 2 3 2 3 2 3 2 2 3 2 ...\n",
      " $ Department              : Factor w/ 3 levels \"Human Resources\",..: 3 2 2 2 2 2 2 2 2 2 ...\n",
      " $ DistanceFromHome        : num  1 8 2 3 2 2 3 24 23 27 ...\n",
      " $ Education               : Factor w/ 5 levels \"Below College\",..: 2 1 2 4 1 2 3 1 3 3 ...\n",
      " $ EducationField          : chr  \"Life Sciences\" \"Life Sciences\" \"Other\" \"Life Sciences\" ...\n",
      " $ EmployeeNumber          : chr  \"0001\" \"0002\" \"0004\" \"0005\" ...\n",
      " $ EnvironmentSatisfaction : Factor w/ 4 levels \"Low\",\"Medium\",..: 2 3 4 4 1 4 3 4 4 3 ...\n",
      " $ Gender                  : Factor w/ 2 levels \"Female\",\"Male\": 1 2 2 1 2 2 1 2 2 2 ...\n",
      " $ JobInvolvement          : Factor w/ 4 levels \"Low\",\"Medium\",..: 3 2 2 3 3 3 4 3 2 3 ...\n",
      " $ JobLevel                : num  2 2 1 1 1 1 1 1 3 2 ...\n",
      " $ JobRole                 : chr  \"Sales Executive\" \"Research Scientist\" \"Laboratory Technician\" \"Research Scientist\" ...\n",
      " $ JobSatisfaction         : Factor w/ 4 levels \"Low\",\"Medium\",..: 4 2 3 3 2 4 1 3 3 3 ...\n",
      " $ MaritalStatus           : Factor w/ 3 levels \"Divorced\",\"Married\",..: 3 2 3 2 2 3 2 1 3 2 ...\n",
      " $ MonthlyIncome           : num  5993 5130 2090 2909 3468 ...\n",
      " $ NumCompaniesWorked      : num  8 1 6 1 9 0 4 1 0 6 ...\n",
      " $ OverTime                : Factor w/ 2 levels \"No\",\"Yes\": 2 1 2 2 1 1 2 1 1 1 ...\n",
      " $ PercentSalaryHike       : num  11 23 15 11 12 13 20 22 21 13 ...\n",
      " $ PerformanceRating       : Factor w/ 4 levels \"Low\",\"Good\",\"Excellent\",..: 3 4 3 3 3 3 4 4 4 3 ...\n",
      " $ RelationshipSatisfaction: Factor w/ 4 levels \"Low\",\"Medium\",..: 1 4 2 3 4 3 1 2 2 2 ...\n",
      " $ StockOptionLevel        : Factor w/ 4 levels \"0\",\"1\",\"2\",\"3\": 1 2 1 1 2 1 4 2 1 3 ...\n",
      " $ TotalWorkingYears       : num  8 10 7 8 6 8 12 1 10 17 ...\n",
      " $ TrainingTimesLastYear   : num  0 3 3 3 3 2 3 2 2 3 ...\n",
      " $ WorkLifeBalance         : Factor w/ 4 levels \"Bad\",\"Good\",\"Better\",..: 1 3 3 3 3 2 2 3 3 2 ...\n",
      " $ YearsAtCompany          : num  6 10 0 8 2 7 1 1 9 7 ...\n",
      " $ YearsInCurrentRole      : num  4 7 0 7 2 7 0 0 7 7 ...\n",
      " $ YearsSinceLastPromotion : num  0 1 0 3 2 3 0 0 1 7 ...\n",
      " $ YearsWithCurrManager    : num  5 7 0 0 2 6 0 0 8 7 ...\n"
     ]
    }
   ],
   "source": [
    "hr.df %<>% select(-ends_with(\"Rate\"))\n",
    "str(hr.df)"
   ]
  },
  {
   "cell_type": "markdown",
   "metadata": {},
   "source": [
    "### Computer-friendly fields"
   ]
  },
  {
   "cell_type": "code",
   "execution_count": 24,
   "metadata": {},
   "outputs": [
    {
     "name": "stdout",
     "output_type": "stream",
     "text": [
      "Classes 'tbl_df', 'tbl' and 'data.frame':\t1470 obs. of  29 variables:\n",
      " $ Age                     : num  41 49 37 33 27 32 59 30 38 36 ...\n",
      " $ BusinessTravel          : Factor w/ 3 levels \"Non-Travel\",\"Rarely\",..: 2 3 2 3 2 3 2 2 3 2 ...\n",
      " $ Department              : Factor w/ 3 levels \"Human Resources\",..: 3 2 2 2 2 2 2 2 2 2 ...\n",
      " $ DistanceFromHome        : num  1 8 2 3 2 2 3 24 23 27 ...\n",
      " $ Education               : Factor w/ 5 levels \"Below College\",..: 2 1 2 4 1 2 3 1 3 3 ...\n",
      " $ EducationField          : chr  \"Life Sciences\" \"Life Sciences\" \"Other\" \"Life Sciences\" ...\n",
      " $ EmployeeNumber          : chr  \"0001\" \"0002\" \"0004\" \"0005\" ...\n",
      " $ EnvironmentSatisfaction : Factor w/ 4 levels \"Low\",\"Medium\",..: 2 3 4 4 1 4 3 4 4 3 ...\n",
      " $ Gender                  : Factor w/ 2 levels \"Female\",\"Male\": 1 2 2 1 2 2 1 2 2 2 ...\n",
      " $ JobInvolvement          : Factor w/ 4 levels \"Low\",\"Medium\",..: 3 2 2 3 3 3 4 3 2 3 ...\n",
      " $ JobLevel                : num  2 2 1 1 1 1 1 1 3 2 ...\n",
      " $ JobRole                 : chr  \"Sales Executive\" \"Research Scientist\" \"Laboratory Technician\" \"Research Scientist\" ...\n",
      " $ JobSatisfaction         : Factor w/ 4 levels \"Low\",\"Medium\",..: 4 2 3 3 2 4 1 3 3 3 ...\n",
      " $ MaritalStatus           : Factor w/ 3 levels \"Divorced\",\"Married\",..: 3 2 3 2 2 3 2 1 3 2 ...\n",
      " $ MonthlyIncome           : num  5993 5130 2090 2909 3468 ...\n",
      " $ NumCompaniesWorked      : num  8 1 6 1 9 0 4 1 0 6 ...\n",
      " $ OverTime                : logi  TRUE FALSE TRUE TRUE FALSE FALSE ...\n",
      " $ PerformanceRating       : Factor w/ 4 levels \"Low\",\"Good\",\"Excellent\",..: 3 4 3 3 3 3 4 4 4 3 ...\n",
      " $ RelationshipSatisfaction: Factor w/ 4 levels \"Low\",\"Medium\",..: 1 4 2 3 4 3 1 2 2 2 ...\n",
      " $ StockOptionLevel        : Factor w/ 4 levels \"0\",\"1\",\"2\",\"3\": 1 2 1 1 2 1 4 2 1 3 ...\n",
      " $ TotalWorkingYears       : num  8 10 7 8 6 8 12 1 10 17 ...\n",
      " $ TrainingTimesLastYear   : num  0 3 3 3 3 2 3 2 2 3 ...\n",
      " $ WorkLifeBalance         : Factor w/ 4 levels \"Bad\",\"Good\",\"Better\",..: 1 3 3 3 3 2 2 3 3 2 ...\n",
      " $ YearsAtCompany          : num  6 10 0 8 2 7 1 1 9 7 ...\n",
      " $ YearsInCurrentRole      : num  4 7 0 7 2 7 0 0 7 7 ...\n",
      " $ YearsSinceLastPromotion : num  0 1 0 3 2 3 0 0 1 7 ...\n",
      " $ YearsWithCurrManager    : num  5 7 0 0 2 6 0 0 8 7 ...\n",
      " $ Separated               : logi  TRUE FALSE TRUE FALSE FALSE FALSE ...\n",
      " $ SalaryHike              : num  0.11 0.23 0.15 0.11 0.12 0.13 0.2 0.22 0.21 0.13 ...\n"
     ]
    }
   ],
   "source": [
    "hr.df %<>%\n",
    "    mutate(\n",
    "        # Logicals\n",
    "        Separated = Attrition == \"Yes\",\n",
    "        OverTime = OverTime == \"Yes\",\n",
    "        # Percent\n",
    "        SalaryHike = PercentSalaryHike / 100\n",
    "    ) %>%\n",
    "    select(-Attrition, -PercentSalaryHike)\n",
    "str(hr.df)"
   ]
  },
  {
   "cell_type": "markdown",
   "metadata": {},
   "source": [
    "# Output parsed ingest"
   ]
  },
  {
   "cell_type": "markdown",
   "metadata": {},
   "source": [
    "## `data01_parsed ingest.rds`"
   ]
  },
  {
   "cell_type": "markdown",
   "metadata": {},
   "source": [
    "### Save to proxy"
   ]
  },
  {
   "cell_type": "code",
   "execution_count": 26,
   "metadata": {},
   "outputs": [
    {
     "name": "stderr",
     "output_type": "stream",
     "text": [
      "Local file:\n",
      "  * ../Data/data01_parsed ingest.rds\n",
      "uploaded into Drive file:\n",
      "  * data01_parsed ingest.rds: 1DN3gt-cV3xWUONNXpdQQy58mV4ksvCvm\n",
      "with MIME type:\n",
      "  * application/x-gzip\n"
     ]
    }
   ],
   "source": [
    "parsed.file <- \"data01_parsed ingest.rds\"\n",
    "#### Save to proxy data://\n",
    "parsed.filepath <- file.path(proxydata.path, parsed.file)\n",
    "saveRDS(hr.df, parsed.filepath)\n",
    "#### Stage to data://\n",
    "drive_upload(parsed.filepath, as_id(datastage.id), parsed.file)"
   ]
  },
  {
   "cell_type": "markdown",
   "metadata": {},
   "source": [
    "### Get GDrive ID"
   ]
  },
  {
   "cell_type": "code",
   "execution_count": 28,
   "metadata": {
    "scrolled": true
   },
   "outputs": [
    {
     "data": {
      "text/html": [
       "'1DN3gt-cV3xWUONNXpdQQy58mV4ksvCvm'"
      ],
      "text/latex": [
       "'1DN3gt-cV3xWUONNXpdQQy58mV4ksvCvm'"
      ],
      "text/markdown": [
       "'1DN3gt-cV3xWUONNXpdQQy58mV4ksvCvm'"
      ],
      "text/plain": [
       "[1] \"1DN3gt-cV3xWUONNXpdQQy58mV4ksvCvm\""
      ]
     },
     "metadata": {},
     "output_type": "display_data"
    }
   ],
   "source": [
    "#### Get ID\n",
    "drive_sub_id(as_id(datastage.id), parsed.file)"
   ]
  },
  {
   "cell_type": "code",
   "execution_count": null,
   "metadata": {
    "collapsed": true
   },
   "outputs": [],
   "source": []
  }
 ],
 "metadata": {
  "kernelspec": {
   "display_name": "R",
   "language": "R",
   "name": "ir"
  },
  "language_info": {
   "codemirror_mode": "r",
   "file_extension": ".r",
   "mimetype": "text/x-r-source",
   "name": "R",
   "pygments_lexer": "r",
   "version": "3.4.2"
  }
 },
 "nbformat": 4,
 "nbformat_minor": 2
}
